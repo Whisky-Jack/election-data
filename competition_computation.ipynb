{
 "cells": [
  {
   "cell_type": "code",
   "execution_count": 29,
   "metadata": {},
   "outputs": [],
   "source": [
    "import pickle\n",
    "import pandas as pd \n",
    "\n",
    "map_filename = './data_parl_map.pickle'\n",
    "district_era_filename = './district_eras_map.pickle'\n"
   ]
  },
  {
   "cell_type": "code",
   "execution_count": 30,
   "metadata": {},
   "outputs": [],
   "source": [
    "class RidingObject:\n",
    "    def __init__(self, name):\n",
    "        self.name = name\n",
    "        self.eras = []\n",
    "        self.elections = []\n",
    "\n",
    "class Era:\n",
    "    def __init__(self, start, end, predecessors, successors):\n",
    "        self.start = start\n",
    "        self.end = end\n",
    "        self.predecessors = predecessors\n",
    "        self.successors = successors\n",
    "\n",
    "    def add_dates(self, start, end):\n",
    "        self.start = start\n",
    "        self.end = end\n",
    "\n",
    "    def add_predecessors (self, predecessors):\n",
    "        self.predecessors = predecessors\n",
    "\n",
    "    def add_successors(self, successors):\n",
    "        self.successors = successors"
   ]
  },
  {
   "cell_type": "code",
   "execution_count": 31,
   "metadata": {
    "tags": []
   },
   "outputs": [
    {
     "output_type": "stream",
     "name": "stdout",
     "text": "[('Bonavista—Twillingate', 'Bonavista--Twillingate'), ('Burin—Burgeo', 'Burin--Burgeo'), ('Grand Falls—White Bay', 'Grand Falls--White Bay'), (\"Humber—St. George's\", \"Humber--St. George's\"), (\"St. John's East\", \"St. John's East\"), (\"St. John's West\", \"St. John's West\"), ('Trinity—Conception', 'Trinity--Conception'), ('Annapolis—Kings', 'Annapolis--Kings'), ('Antigonish—Guysborough', 'Antigonish--Guysborough'), ('Cape Breton North and Victoria', 'Cape Breton North and Victoria'), ('Cape Breton South (federal electoral district)', 'Cape Breton South'), ('Colchester—Hants', 'Colchester--Hants'), ('Cumberland (electoral district)', 'Cumberland'), ('Digby—Yarmouth', 'Digby--Yarmouth'), ('Halifax (electoral district)', 'Halifax'), ('Inverness—Richmond', 'Inverness--Richmond'), ('Lunenburg (electoral district)', 'Lunenburg'), ('Pictou (electoral district)', 'Pictou'), ('Queens—Shelburne', 'Queens--Shelburne'), (\"King's (Prince Edward Island electoral district)\", \"King's\"), ('Prince (electoral district)', 'Prince'), (\"Queen's (Prince Edward Island electoral district)\", \"Queen's\"), ('Charlotte (electoral district)', 'Charlotte'), ('Gloucester (electoral district)', 'Gloucester'), ('Kent (New Brunswick electoral district)', 'Kent'), ('Northumberland (New Brunswick electoral district)', 'Northumberland'), ('Restigouche—Madawaska', 'Restigouche--Madawaska'), ('Royal (electoral district)', 'Royal'), ('St. John—Albert', 'St. John--Albert'), ('Victoria—Carleton', 'Victoria--Carleton'), ('Westmorland (electoral district)', 'Westmorland'), ('York—Sunbury', 'York--Sunbury'), ('Argenteuil—Deux-Montagnes', 'Argenteuil--Deux-Montagnes'), ('Beauce (electoral district)', 'Beauce'), ('Beauharnois (electoral district)', 'Beauharnois'), ('Bellechasse (electoral district)', 'Bellechasse'), ('Berthier—Maskinongé', 'Berthier--Maskinongé'), ('Bonaventure (electoral district)', 'Bonaventure'), ('Brome—Missisquoi', 'Brome--Missisquoi'), ('Cartier (electoral district)', 'Cartier'), ('Chambly—Rouville', 'Chambly--Rouville'), ('Champlain (electoral district)', 'Champlain'), ('Chapleau (electoral district)', 'Chapleau'), ('Charlevoix (electoral district)', 'Charlevoix'), ('Châteauguay—Huntingdon—Laprairie', 'Châteauguay--Huntingdon--Laprairie'), ('Chicoutimi—Le Fjord', 'Chicoutimi--Le Fjord'), ('Compton—Frontenac', 'Compton--Frontenac'), ('Dorchester (electoral district)', 'Dorchester'), ('Drummond—Arthabaska', 'Drummond--Arthabaska'), ('Gaspé (electoral district)', 'Gaspé'), ('Gatineau (electoral district)', 'Gatineau'), ('Hochelaga (electoral district)', 'Hochelaga'), ('Hull (electoral district)', 'Hull'), ('Îles-de-la-Madeleine (former federal electoral district)', 'Îles-de-la-Madeleine'), ('Jacques Cartier (electoral district)', 'Jacques Cartier'), (\"Joliette—L'Assomption—Montcalm\", \"Joliette--l'Assomption--Montcalm\"), ('Kamouraska (electoral district)', 'Kamouraska'), ('Labelle (electoral district)', 'Labelle'), ('Lac-Saint-Jean', 'Lac-Saint-Jean'), ('Lafontaine (electoral district)', 'Lafontaine'), ('Lapointe (electoral district)', 'Lapointe'), ('Laurier (electoral district)', 'Laurier'), ('Laval (electoral district)', 'Laval'), ('Lévis (electoral district)', 'Lévis'), ('Lotbinière (electoral district)', 'Lotbinière'), ('Maisonneuve—Rosemont', 'Maisonneuve--Rosemont'), ('Matapédia—Matane', 'Matapédia--Matane'), ('Mégantic (federal electoral district)', 'Mégantic'), ('Mercier (electoral district)', 'Mercier'), (\"Montmagny—L'Islet\", \"Montmagny--l'Islet\"), ('Mount Royal (electoral district)', 'Mount Royal'), ('Nicolet—Yamaska', 'Nicolet--Yamaska'), ('Notre-Dame-de-Grâce (electoral district)', 'Notre-Dame-de-Grâce'), ('Outremont—St-Jean', 'Outremont--St-Jean'), ('Papineau (electoral district)', 'Papineau'), ('Pontiac—Témiscamingue', 'Pontiac--Témiscamingue'), ('Portneuf (electoral district)', 'Portneuf'), ('Quebec East', 'Quebec East'), ('Quebec South', 'Quebec South'), ('Quebec West', 'Quebec West'), ('Québec—Montmorency', 'Québec--Montmorency'), ('Richelieu—Verchères', 'Richelieu--Verchères'), ('Richmond—Wolfe', 'Richmond--Wolfe'), ('Rimouski (electoral district)', 'Rimouski'), ('Roberval (electoral district)', 'Roberval'), ('Saguenay (electoral district)', 'Saguenay'), ('Saint-Hyacinthe—Bagot', 'Saint-Hyacinthe--Bagot'), ('Saint-Jean—Iberville—Napierville', 'Saint-Jean--Iberville--Napierville'), ('Saint-Maurice—Laflèche', 'Saint-Maurice--Laflèche'), ('Shefford (electoral district)', 'Shefford'), ('Sherbrooke (electoral district)', 'Sherbrooke'), ('St-Denis (electoral district)', 'St-Denis'), ('St. Henri', 'St. Henri'), ('St. Ann (electoral district)', 'St. Ann'), ('St. Antoine—Westmount', 'St. Antoine--Westmount'), ('St. James (electoral district)', 'St. James'), ('St. Lawrence—St. George', 'St. Lawrence--St. George'), ('St. Mary (electoral district)', 'St. Mary'), ('Stanstead (electoral district)', 'Stanstead'), ('Témiscouata (electoral district)', 'Témiscouata'), ('Terrebonne (electoral district)', 'Terrebonne'), ('Trois-Rivières (electoral district)', 'Trois-Rivières'), ('Vaudreuil—Soulanges', 'Vaudreuil--Soulanges'), ('Verdun—La Salle', 'Verdun--La Salle'), ('Villeneuve (electoral district)', 'Villeneuve'), ('Algoma East', 'Algoma East'), ('Algoma West', 'Algoma West'), ('Brant—Wentworth', 'Brant--Wentworth'), ('Brantford (electoral district)', 'Brantford'), ('Broadview (electoral district)', 'Broadview'), ('Bruce (electoral district)', 'Bruce'), ('Carleton (Ontario electoral district)', 'Carleton'), ('Cochrane (electoral district)', 'Cochrane'), ('Danforth (electoral district)', 'Danforth'), ('Davenport (electoral district)', 'Davenport'), ('Dufferin—Simcoe', 'Dufferin--Simcoe'), ('Durham (electoral district)', 'Durham'), ('Eglinton (electoral district)', 'Eglinton'), ('Elgin (electoral district)', 'Elgin'), ('Essex East (electoral district)', 'Essex East'), ('Essex South (electoral district)', 'Essex South'), ('Essex West (electoral district)', 'Essex West'), ('Fort William (electoral district)', 'Fort William'), ('Frontenac—Addington', 'Frontenac--Addington'), ('Glengarry (electoral district)', 'Glengarry'), ('Greenwood (electoral district)', 'Greenwood'), ('Grenville—Dundas', 'Grenville--Dundas'), ('Grey North', 'Grey North'), ('Grey—Bruce', 'Grey--Bruce'), ('Haldimand (electoral district)', 'Haldimand'), ('Halton (electoral district)', 'Halton'), ('Hamilton East (electoral district)', 'Hamilton East'), ('Hamilton West (electoral district)', 'Hamilton West'), ('Hastings South', 'Hastings South'), ('Hastings—Peterborough', 'Hastings--Peterborough'), ('High Park (electoral district)', 'High Park'), ('Huron North', 'Huron North'), ('Huron—Perth', 'Huron--Perth'), ('Kenora—Rainy River', 'Kenora--Rainy River'), ('Kent (Ontario electoral district)', 'Kent'), ('Kingston City', 'Kingston City'), ('Lambton West', 'Lambton West'), ('Lambton—Kent', 'Lambton--Kent'), ('Lanark (electoral district)', 'Lanark'), ('Leeds (electoral district)', 'Leeds'), ('Lincoln (electoral district)', 'Lincoln'), ('London (electoral district)', 'London'), ('Middlesex East', 'Middlesex East'), ('Middlesex West', 'Middlesex West'), ('Nipissing (electoral district)', 'Nipissing'), ('Norfolk (electoral district)', 'Norfolk'), ('Northumberland (Ontario electoral district)', 'Northumberland'), ('Ontario (electoral district)', 'Ontario'), ('Ottawa East', 'Ottawa East'), ('Ottawa West', 'Ottawa West'), ('Oxford (electoral district)', 'Oxford'), ('Parkdale (electoral district)', 'Parkdale'), ('Parry Sound—Muskoka', 'Parry Sound--Muskoka'), ('Peel (electoral district)', 'Peel'), ('Perth (electoral district)', 'Perth'), ('Peterborough West', 'Peterborough West'), ('Port Arthur (electoral district)', 'Port Arthur'), ('Prescott (electoral district)', 'Prescott'), ('Prince Edward—Lennox', 'Prince Edward--Lennox'), ('Renfrew North', 'Renfrew North'), ('Renfrew South', 'Renfrew South'), ('Rosedale (electoral district)', 'Rosedale'), ('Russell (Ontario electoral district)', 'Russell'), ('Simcoe East', 'Simcoe East'), ('Simcoe North', 'Simcoe North'), ('Spadina (electoral district)', 'Spadina'), (\"St. Paul's (electoral district)\", \"St. Paul's\"), ('Stormont (electoral district)', 'Stormont'), ('Sudbury (electoral district)', 'Sudbury'), ('Timiskaming (electoral district)', 'Timiskaming'), ('Timmins (electoral district)', 'Timmins'), ('Trinity (electoral district)', 'Trinity'), ('Victoria (Ontario electoral district)', 'Victoria'), ('Waterloo North', 'Waterloo North'), ('Waterloo South', 'Waterloo South'), ('Welland (electoral district)', 'Welland'), ('Wellington North', 'Wellington North'), ('Wellington South', 'Wellington South'), ('Wentworth (electoral district)', 'Wentworth'), ('York East', 'York East'), ('York North', 'York North'), ('York South', 'York South'), ('York West', 'York West'), ('Brandon (electoral district)', 'Brandon'), ('Churchill (electoral district)', 'Churchill'), ('Dauphin (Manitoba electoral district)', 'Dauphin'), ('Lisgar (electoral district)', 'Lisgar'), ('Marquette (electoral district)', 'Marquette'), ('Norquay (electoral district)', 'Norquay'), ('Portage—Neepawa', 'Portage--Neepawa'), ('Provencher (electoral district)', 'Provencher'), ('Selkirk (electoral district)', 'Selkirk'), ('Souris (electoral district)', 'Souris'), ('Springfield (electoral district)', 'Springfield'), ('St. Boniface (electoral district)', 'St. Boniface'), ('Winnipeg North', 'Winnipeg North'), ('Winnipeg North Centre', 'Winnipeg North Centre'), ('Winnipeg South', 'Winnipeg South'), ('Winnipeg South Centre', 'Winnipeg South Centre'), ('Assiniboia (electoral district)', 'Assiniboia'), ('Humboldt (electoral district)', 'Humboldt'), ('Kindersley (electoral district)', 'Kindersley'), ('Lake Centre', 'Lake Centre'), ('Mackenzie (electoral district)', 'Mackenzie'), ('Maple Creek (electoral district)', 'Maple Creek'), ('Meadow Lake (electoral district)', 'Meadow Lake'), ('Melfort (electoral district)', 'Melfort'), ('Melville (electoral district)', 'Melville'), ('Moose Jaw (electoral district)', 'Moose Jaw'), ('Moose Mountain (electoral district)', 'Moose Mountain'), ('Prince Albert (electoral district)', 'Prince Albert'), (\"Qu'Appelle (electoral district)\", \"Qu'Appelle\"), ('Regina City', 'Regina City'), ('Rosetown—Biggar', 'Rosetown--Biggar'), ('Rosthern (electoral district)', 'Rosthern'), ('Saskatoon (electoral district)', 'Saskatoon'), ('Swift Current (electoral district)', 'Swift Current'), ('The Battlefords (electoral district)', 'The Battlefords'), ('Yorkton (electoral district)', 'Yorkton'), ('Acadia (electoral district)', 'Acadia'), ('Athabaska (electoral district)', 'Athabaska'), ('Battle River (electoral district)', 'Battle River'), ('Bow River (electoral district)', 'Bow River'), ('Calgary East', 'Calgary East'), ('Calgary West', 'Calgary West'), ('Camrose (electoral district)', 'Camrose'), ('Edmonton East', 'Edmonton East'), ('Edmonton West', 'Edmonton West'), ('Jasper—Edson', 'Jasper--Edson'), ('Lethbridge (electoral district)', 'Lethbridge'), ('Macleod (electoral district)', 'Macleod'), ('Medicine Hat (federal electoral district)', 'Medicine Hat'), ('Peace River (electoral district)', 'Peace River'), ('Red Deer (electoral district)', 'Red Deer'), ('Vegreville (electoral district)', 'Vegreville'), ('Wetaskiwin (electoral district)', 'Wetaskiwin'), ('Burnaby—Richmond', 'Burnaby--Richmond'), ('Cariboo (electoral district)', 'Cariboo'), ('Coast-Capilano', 'Coast-Capilano'), ('Comox—Alberni', 'Comox--Alberni'), ('Fraser Valley (electoral district)', 'Fraser Valley'), ('Kamloops (electoral district)', 'Kamloops'), ('Kootenay East', 'Kootenay East'), ('Kootenay West', 'Kootenay West'), ('Nanaimo (electoral district)', 'Nanaimo'), ('New Westminster (electoral district)', 'New Westminster'), ('Skeena (electoral district)', 'Skeena'), ('Vancouver Centre', 'Vancouver Centre'), ('Vancouver East', 'Vancouver East'), ('Vancouver Quadra', 'Vancouver Quadra'), ('Vancouver South', 'Vancouver South'), ('Vancouver—Burrard', 'Vancouver--Burrard'), ('Victoria (electoral district)', 'Victoria'), ('Yale (electoral district)', 'Yale'), ('Yukon—Mackenzie River', 'Yukon--Mackenzie River'), ('Grand Falls—White Bay—Labrador', 'Grand Falls--White Bay--Labrador'), ('Digby—Annapolis—Kings', 'Digby--Annapolis--Kings'), ('Queens—Lunenburg', 'Queens--Lunenburg'), ('Shelburne—Yarmouth—Clare', 'Shelburne--Yarmouth--Clare'), ('Beauharnois—Salaberry', 'Beauharnois--Salaberry'), ('Berthier—Maskinongé—delanaudière', 'Berthier--Maskinongé--de Lanaudière'), ('Dollard (electoral district)', 'Dollard'), ('Jacques Cartier—Lasalle', 'Jacques-Cartier--Lasalle'), ('Longueuil (electoral district)', 'Longueuil'), ('Saint-Antoine—Westmount', 'Saint-Antoine--Westmount'), ('Saint-Denis (electoral district)', 'Saint-Denis'), ('St. Henri (electoral district)', 'St. Henri'), ('Saint-Jacques (electoral district)', 'Saint-Jacques'), ('Sainte-Marie (electoral district)', 'Sainte-Marie'), ('Verdun (electoral district)', 'Verdun'), ('Brant—Haldimand', 'Brant--Haldimand'), ('Glengarry—Prescott', 'Glengarry--Prescott'), ('Hamilton South (electoral district)', 'Hamilton South'), ('Hastings—Frontenac', 'Hastings--Frontenac'), ('Huron (electoral district)', 'Huron'), ('Kingston (electoral district)', 'Kingston'), ('Niagara Falls (electoral district)', 'Niagara Falls'), ('Nickel Belt', 'Nickel Belt'), ('Wellington—Huron', 'Wellington--Huron'), ('York Centre', 'York Centre'), ('York—Humber', 'York--Humber'), ('York—Scarborough', 'York--Scarborough'), ('Brandon—Souris', 'Brandon--Souris'), ('Humboldt—Melfort', 'Humboldt--Melfort'), ('Moose Jaw—Lake Centre', 'Moose Jaw--Lake Centre'), ('Swift Current—Maple Creek', 'Swift Current--Maple Creek'), ('Battle River—Camrose', 'Battle River--Camrose'), ('Calgary North', 'Calgary North'), ('Calgary South', 'Calgary South'), ('Edmonton—Strathcona', 'Edmonton--Strathcona'), ('Burnaby—Coquitlam', 'Burnaby--Coquitlam'), ('Esquimalt—Saanich', 'Esquimalt--Saanich'), ('Okanagan Boundary', 'Okanagan Boundary'), ('Okanagan—Revelstoke', 'Okanagan--Revelstoke'), ('Vancouver Kingsway', 'Vancouver Kingsway'), ('Mackenzie River (electoral district)', 'Mackenzie River'), ('Yukon (electoral district)', 'Yukon'), ('Bonavista—Trinity—Conception', 'Bonavista--Trinity--Conception'), ('Gander—Twillingate', 'Gander--Twillingate'), (\"Humber—St. George's—St. Barbe\", \"Humber--St. George's--St. Barbe\"), ('Annapolis Valley (electoral district)', 'Annapolis Valley'), ('Cape Breton Highlands—Canso', 'Cape Breton Highlands--Canso'), ('Cape Breton—East Richmond', 'Cape Breton--East Richmond'), ('Cape Breton—The Sydneys', 'Cape Breton--The Sydneys'), ('Central Nova', 'Central Nova'), ('Cumberland—Colchester North', 'Cumberland--Colchester North'), ('Dartmouth—Halifax East', 'Dartmouth--Halifax East'), ('Halifax—East Hants', 'Halifax--East Hants'), ('South Shore (electoral district)', 'South Shore'), ('South Western Nova', 'South Western Nova'), ('Cardigan (electoral district)', 'Cardigan'), ('Egmont (electoral district)', 'Egmont'), ('Hillsborough (electoral district)', 'Hillsborough'), ('Malpeque (electoral district)', 'Malpeque'), ('Carleton—Charlotte', 'Carleton--Charlotte'), ('Fundy—Royal', 'Fundy--Royal'), ('Madawaska—Victoria', 'Madawaska--Victoria'), ('Moncton (electoral district)', 'Moncton'), ('Northumberland—Miramichi', 'Northumberland--Miramichi'), ('Restigouche (electoral district)', 'Restigouche'), ('Saint John—Lancaster', 'Saint John--Lancaster'), ('Westmorland—Kent', 'Westmorland--Kent'), ('Abitibi (electoral district)', 'Abitibi'), ('Ahuntsic (electoral district)', 'Ahuntsic'), ('Argenteuil (electoral district)', 'Argenteuil'), ('Berthier (electoral district)', 'Berthier'), ('Bourassa (electoral district)', 'Bourassa'), ('Chambly (electoral district)', 'Chambly'), ('Compton (electoral district)', 'Compton'), ('Drummond (electoral district)', 'Drummond'), ('Duvernay (electoral district)', 'Duvernay'), ('Frontenac (Quebec electoral district)', 'Frontenac'), ('Gamelin (electoral district)', 'Gamelin'), ('Joliette (electoral district)', 'Joliette'), ('Lachine (electoral district)', 'Lachine'), ('Québec (electoral district)', 'Québec'), ('Laprairie (electoral district)', 'Laprairie'), ('Lasalle (electoral district)', 'Lasalle'), ('Louis-Hébert', 'Louis-Hébert'), ('Manicouagan (electoral district)', 'Manicouagan'), ('Matane (electoral district)', 'Matane'), ('Montmorency (electoral district)', 'Montmorency'), ('Outremont (electoral district)', 'Outremont'), ('Pontiac (electoral district)', 'Pontiac'), ('Bas-Richelieu—Nicolet—Bécancour', 'Bas-Richelieu--Nicolet--Bécancour'), ('Saint-Hyacinthe (electoral district)', 'Saint-Hyacinthe'), ('Saint-Jean (electoral district)', 'Saint-Jean'), ('Saint-Maurice (electoral district)', 'Saint-Maurice'), ('Saint-Michel (electoral district)', 'Saint-Michel'), ('Témiscamingue (electoral district)', 'Témiscamingue'), ('Vaudreuil (electoral district)', 'Vaudreuil'), ('Westmount (electoral district)', 'Westmount'), ('Algoma (electoral district)', 'Algoma'), ('Brant (electoral district)', 'Brant'), ('Don Valley (electoral district)', 'Don Valley'), ('Essex (electoral district)', 'Essex'), ('Etobicoke (electoral district)', 'Etobicoke'), ('Frontenac—Lennox and Addington', 'Frontenac--Lennox and Addington'), ('Grenville—Carleton', 'Grenville--Carleton'), ('Grey—Simcoe', 'Grey--Simcoe'), ('Halton—Wentworth', 'Halton--Wentworth'), ('Hamilton Mountain', 'Hamilton Mountain'), ('Hamilton—Wentworth', 'Hamilton--Wentworth'), ('Hastings (electoral district)', 'Hastings'), ('Kent—Essex', 'Kent--Essex'), ('Kingston and the Islands', 'Kingston and the Islands'), ('Kitchener (electoral district)', 'Kitchener'), ('Lakeshore (electoral district)', 'Lakeshore'), ('Lanark and Renfrew', 'Lanark and Renfrew'), ('London East', 'London East'), ('London West', 'London West'), ('Middlesex (electoral district)', 'Middlesex'), ('Norfolk—Haldimand', 'Norfolk--Haldimand'), ('Northumberland—Durham', 'Northumberland--Durham'), ('Oshawa—Whitby', 'Oshawa--Whitby'), ('Ottawa Centre', 'Ottawa Centre'), ('Ottawa—Carleton', 'Ottawa--Carleton'), ('Peel South', 'Peel South'), ('Peel—Dufferin—Simcoe', 'Peel--Dufferin--Simcoe'), ('Peterborough (electoral district)', 'Peterborough'), ('Prince Edward—Hastings', 'Prince Edward--Hastings'), ('Sarnia (electoral district)', 'Sarnia'), ('Sault Ste. Marie (electoral district)', 'Sault Ste. Marie'), ('Scarborough East', 'Scarborough East'), ('Scarborough West', 'Scarborough West'), ('St. Catharines (electoral district)', 'St. Catharines'), ('Stormont—Dundas', 'Stormont--Dundas'), ('Thunder Bay (electoral district)', 'Thunder Bay'), ('Victoria—Haliburton', 'Victoria--Haliburton'), ('Waterloo (electoral district)', 'Waterloo'), ('Wellington (electoral district)', 'Wellington'), ('Wellington—Grey', 'Wellington--Grey'), ('Windsor West', 'Windsor West'), ('Windsor—Walkerville', 'Windsor--Walkerville'), ('York—Simcoe', 'York--Simcoe'), ('Portage (electoral district)', 'Portage'), ('Battleford—Kindersley', 'Battleford--Kindersley'), (\"Qu'Appelle—Moose Mountain\", \"Qu'Appelle--Moose Mountain\"), ('Regina East', 'Regina East'), ('Regina—Lake Centre', 'Regina--Lake Centre'), ('Saskatoon—Biggar', 'Saskatoon--Biggar'), ('Saskatoon—Humboldt', 'Saskatoon--Humboldt'), ('Yorkton—Melville', 'Yorkton--Melville'), ('Athabasca (electoral district)', 'Athabasca'), ('Calgary Centre', 'Calgary Centre'), ('Crowfoot (electoral district)', 'Crowfoot'), ('Edmonton Centre', 'Edmonton Centre'), ('Palliser (Alberta electoral district)', 'Palliser'), ('Pembina (Alberta electoral district)', 'Pembina'), ('Rocky Mountain (electoral district)', 'Rocky Mountain'), ('Burnaby—Seymour', 'Burnaby--Seymour'), ('Capilano (electoral district)', 'Capilano'), ('Coast Chilcotin', 'Coast Chilcotin'), ('Fraser Valley East', 'Fraser Valley East'), ('Fraser Valley West', 'Fraser Valley West'), ('Kamloops—Cariboo', 'Kamloops--Cariboo'), ('Nanaimo—Cowichan—The Islands', 'Nanaimo--Cowichan--The Islands'), ('Okanagan—Kootenay', 'Okanagan--Kootenay'), ('Prince George—Peace River', 'Prince George--Peace River'), ('Surrey—White Rock—South Langley', 'Surrey--White Rock--South Langley'), ('Northwest Territories (electoral district)', 'Northwest Territories'), (\"Burin—St. George's\", \"Burin--St. George's\"), ('Humber—Port au Port—St. Barbe', 'Humber--Port au Port--St. Barbe'), ('Annapolis Valley—Hants', 'Annapolis Valley--Hants'), ('Cumberland—Colchester', 'Cumberland--Colchester'), ('Halifax West', 'Halifax West'), ('South West Nova', 'South West Nova'), ('Saint John (electoral district)', 'Saint John'), ('Blainville—Deux-Montagnes', 'Blainville--Deux-Montagnes'), ('Bonaventure—Îles-de-la-Madeleine', 'Bonaventure--Îles-de-la-Madeleine'), ('Charlesbourg—Jacques-Cartier', 'Charlesbourg--Jacques-Cartier'), ('Châteauguay (electoral district)', 'Châteauguay'), ('Hochelaga—Maisonneuve', 'Hochelaga--Maisonneuve'), ('Jonquière (electoral district)', 'Jonquière'), ('Kamouraska—Rivière-du-Loup', 'Kamouraska--Rivière-du-Loup'), ('La Prairie (electoral district)', 'La Prairie'), ('Laval West', 'Laval West'), ('Laval Centre', 'Laval Centre'), ('Mégantic—Compton—Stanstead', 'Mégantic--Compton--Stanstead'), ('Pontiac—Gatineau—Labelle', 'Pontiac--Gatineau--Labelle'), ('Rosemont (electoral district)', 'Rosemont'), ('Saint-Henri—Westmount', 'Saint-Henri--Westmount'), ('Saint-Léonard—Anjou', 'Saint-Léonard--Anjou'), ('Verchères—Les Patriotes', 'Verchères--Les Patriotes'), ('Beaches (electoral district)', 'Beaches'), ('Brampton—Georgetown', 'Brampton--Georgetown'), ('Broadview—Greenwood', 'Broadview--Greenwood'), ('Bruce—Grey', 'Bruce--Grey'), ('Burlington (electoral district)', 'Burlington'), ('Cambridge (electoral district)', 'Cambridge'), ('Don Valley East', 'Don Valley East'), ('Don Valley West', 'Don Valley West'), ('Durham—Northumberland', 'Durham--Northumberland'), ('Eglinton—Lawrence', 'Eglinton--Lawrence'), ('Erie (electoral district)', 'Erie'), ('Essex—Kent', 'Essex--Kent'), ('Essex—Windsor', 'Essex--Windsor'), ('Etobicoke Centre (electoral district)', 'Etobicoke Centre'), ('Etobicoke North', 'Etobicoke North'), ('Etobicoke—Lakeshore', 'Etobicoke--Lakeshore'), ('Glengarry—Prescott—Russell', 'Glengarry--Prescott--Russell'), ('Guelph (electoral district)', 'Guelph'), ('Haldimand—Norfolk', 'Haldimand--Norfolk'), ('Huron—Bruce', 'Huron--Bruce'), ('Lambton—Middlesex', 'Lambton--Middlesex'), ('Lanark—Renfrew—Carleton', 'Lanark--Renfrew--Carleton'), ('Leeds—Grenville', 'Leeds--Grenville'), ('London—Middlesex', 'London--Middlesex'), ('Mississauga North', 'Mississauga North'), ('Mississauga South', 'Mississauga South'), ('Nepean—Carleton', 'Nepean--Carleton'), ('Oshawa (electoral district)', 'Oshawa'), ('Ottawa—Vanier', 'Ottawa--Vanier'), ('Parkdale—High Park', 'Parkdale--High Park'), ('Renfrew—Nipissing—Pembroke', 'Renfrew--Nipissing--Pembroke'), ('Scarborough Centre (electoral district)', 'Scarborough Centre'), ('Simcoe South', 'Simcoe South'), ('Thunder Bay—Atikokan', 'Thunder Bay--Atikokan'), ('Thunder Bay—Nipigon', 'Thunder Bay--Nipigon'), ('Timmins—Chapleau', 'Timmins--Chapleau'), ('Wellington—Dufferin—Simcoe', 'Wellington--Dufferin--Simcoe'), ('York South—Weston', 'York South--Weston'), ('York—Peel', 'York--Peel'), ('Portage—Marquette', 'Portage--Marquette'), ('Provencher', 'Provencher'), ('Selkirk—Interlake', 'Selkirk--Interlake'), ('Winnipeg—Assiniboine', 'Winnipeg--Assiniboine'), ('Winnipeg—Birds Hill', 'Winnipeg--Birds Hill'), ('Winnipeg—Fort Garry', 'Winnipeg--Fort Garry'), ('Winnipeg—St. James', 'Winnipeg--St. James'), ('Humboldt—Lake Centre', 'Humboldt--Lake Centre'), ('Kindersley—Lloydminster', 'Kindersley--Lloydminster'), ('Regina West', 'Regina West'), ('Saskatoon East', 'Saskatoon East'), ('Saskatoon West', 'Saskatoon West'), ('The Battlefords—Meadow Lake', 'The Battlefords--Meadow Lake'), ('Edmonton North', 'Edmonton North'), ('Edmonton South', 'Edmonton South'), ('Lethbridge—Foothills', 'Lethbridge--Foothills'), ('Yellowhead (electoral district)', 'Yellowhead'), ('Burnaby (electoral district)', 'Burnaby'), ('Cariboo—Chilcotin', 'Cariboo--Chilcotin'), ('Comox—Powell River', 'Comox--Powell River'), ('Cowichan—Malahat—The Islands', 'Cowichan--Malahat--The Islands'), ('Kamloops—Shuswap', 'Kamloops--Shuswap'), ('Kootenay East—Revelstoke', 'Kootenay East--Revelstoke'), ('Mission—Port Moody', 'Mission--Port Moody'), ('Nanaimo—Alberni', 'Nanaimo--Alberni'), ('New Westminster—Coquitlam', 'New Westminster--Coquitlam'), ('North Vancouver—Burnaby', 'North Vancouver--Burnaby'), ('Okanagan North', 'Okanagan North'), ('Okanagan—Similkameen', 'Okanagan--Similkameen'), ('Prince George—Bulkley Valley', 'Prince George--Bulkley Valley'), ('Richmond—South Delta', 'Richmond--South Delta'), ('Surrey—White Rock—North Delta', 'Surrey--White Rock--North Delta'), ('Nunavut (electoral district)', 'Nunavut'), ('Western Arctic', 'Western Arctic'), ('Gander—Grand-Falls', 'Gander--Grand Falls'), ('Humber—St. Barbe—Baie Verte', 'Humber--St. Barbe--Baie Verte'), ('Labrador (electoral district)', 'Labrador'), ('Dartmouth (electoral district)', 'Dartmouth'), ('Southwest Nova', 'South West Nova'), ('Acadie—Bathurst', 'Acadie--Bathurst'), ('Beausejour (electoral district)', 'Beauséjour'), ('Fredericton—York—Sunbury', 'Fredericton--York--Sunbury'), ('Miramichi (electoral district)', 'Miramichi'), ('Restigouche—Chaleur', 'Restigouche--Chaleur'), ('Abitibi (eletoral district)', 'Abitibi'), ('Anjou—Rivière-des-Prairies', 'Anjou--Rivière-des-Prairies'), ('Argenteuil—Papineau', 'Argenteuil--Papineau'), ('Beauport—Montmorency—Orléans', 'Beauport--Montmorency--Orléans'), ('Berthier—Montcalm', 'Berthier--Montcalm'), ('Gatineau—La Lièvre', 'Gatineau--La Lièvre'), ('Hull—Aylmer', 'Hull--Aylmer'), ('Lachine—Lac-Saint-Louis', 'Lachine--Lac-Saint-Louis'), ('LaSalle—Émard', 'LaSalle--Émard'), ('Laurentides (electoral district)', 'Laurentides'), ('Laurier—Sainte-Marie', 'Laurier--Sainte-Marie'), ('Laval East', 'Laval East'), ('Louis-Hébert (electoral district)', 'Louis-Hébert'), ('Papineau—Saint-Michel', 'Papineau--Saint-Michel'), ('Pierrefonds—Dollard', 'Pierrefonds--Dollard'), ('Richelieu (electoral district)', 'Richelieu'), ('Rimouski—Témiscouata', 'Rimouski--Témiscouata'), ('Saint-Hubert (electoral district)', 'Saint-Hubert'), ('Saint-Laurent—Cartierville', 'Saint-Laurent--Cartierville'), ('Saint-Léonard (electoral district)', 'Saint-Léonard'), ('Verchères (electoral district)', 'Verchères'), ('Verdun—Saint-Paul', 'Verdun--Saint-Paul'), ('Algoma—Manitoulin', 'Algoma--Manitoulin'), ('Beaches—Woodbine', 'Beaches--Woodbine'), ('Bramalea—Gore—Malton', 'Bramalea--Gore--Malton'), ('Brampton (electoral district)', 'Brampton'), ('Carleton—Gloucester', 'Carleton--Gloucester'), ('Cochrane—Superior', 'Cochrane--Superior'), ('Don Valley North', 'Don Valley North'), ('Elgin—Norfolk', 'Elgin--Norfolk'), ('Essex-Kent', 'Essex--Kent'), ('Essex-Windsor', 'Essex--Windsor'), ('Guelph—Wellington', 'Guelph--Wellington'), ('Halton—Peel', 'Halton--Peel'), ('Hastings—Frontenac—Lennox and Addington', 'Hastings--Frontenac--Lennox and Addington'), ('Lambton—Kent—Middlesex', 'Lambton--Kent--Middlesex'), ('Lanark—Carleton', 'Lanark--Carleton'), ('Markham—Whitchurch—Stouffville', 'Markham--Whitchurch--Stouffville'), ('Mississauga East', 'Mississauga East'), ('Mississauga West', 'Mississauga West'), ('Nepean (electoral district)', 'Nepean'), ('Nickel Belt (electoral district)', 'Nickel Belt'), ('Oakville—Milton', 'Oakville--Milton'), ('Ottawa South', 'Ottawa South'), ('Perth—Wellington—Waterloo', 'Perth--Wellington--Waterloo'), ('Sarnia—Lambton', 'Sarnia--Lambton'), ('Scarborough—Agincourt', 'Scarborough--Agincourt'), ('Scarborough—Rouge River', 'Scarborough--Rouge River'), ('Simcoe Centre', 'Simcoe Centre'), ('Trinity—Spadina', 'Trinity--Spadina'), ('Welland—St. Catharines—Thorold', 'Welland--St. Catharines--Thorold'), ('Wellington—Grey—Dufferin—Simcoe', 'Wellington--Grey--Dufferin--Simcoe'), ('Willowdale (electoral district)', 'Willowdale'), ('Windsor—St. Clair', 'Windsor--St. Clair'), ('Dauphin—Swan River', 'Dauphin--Swan River'), ('Lisgar—Marquette', 'Lisgar--Marquette'), ('Portage—Interlake', 'Portage--Interlake'), ('Selkirk—Red River', 'Selkirk--Red River'), ('Saint Boniface (electoral district)', 'Saint Boniface'), ('Winnipeg St. James', 'Winnipeg--St. James'), ('Winnipeg—Transcona', 'Winnipeg--Transcona'), ('Prince Albert—Churchill River', 'Prince Albert--Churchill River'), ('Regina—Lumsden', 'Regina--Lumsden'), (\"Regina—Qu'Appelle\", \"Regina--Qu'Appelle\"), ('Regina—Wascana', 'Regina--Wascana'), (\"Saskatoon—Clark's Crossing\", \"Saskatoon--Clark's Crossing\"), ('Saskatoon—Dundurn', 'Saskatoon--Dundurn'), ('Souris—Moose Mountain', 'Souris--Moose Mountain'), ('Swift Current—Maple Creek—Assiniboia', 'Swift Current--Maple Creek--Assiniboia'), ('Beaver River (electoral district)', 'Beaver River'), ('Calgary Northeast', 'Calgary Northeast'), ('Calgary Southeast', 'Calgary Southeast'), ('Calgary Southwest', 'Calgary Southwest'), ('Edmonton Northwest', 'Edmonton Northwest'), ('Edmonton Southeast', 'Edmonton Southeast'), ('Edmonton Southwest', 'Edmonton Southwest'), ('Elk Island (electoral district)', 'Elk Island'), ('St. Albert (federal electoral district)', 'St. Albert'), ('Wild Rose (electoral district)', 'Wild Rose'), ('Burnaby—Kingsway', 'Burnaby--Kingsway'), ('Capilano—Howe Sound', 'Capilano--Howe Sound'), ('Delta (electoral district)', 'Delta'), ('Esquimalt—Juan de Fuca', 'Esquimalt--Juan de Fuca'), ('Kootenay West—Revelstoke', 'Kootenay West--Revelstoke'), ('Mission—Coquitlam', 'Mission--Coquitlam'), ('Nanaimo—Cowichan', 'Nanaimo--Cowichan'), ('New Westminster—Burnaby', 'New Westminster--Burnaby'), ('North Island—Powell River', 'North Island--Powell River'), ('North Vancouver (electoral district)', 'North Vancouver'), ('Okanagan Centre', 'Okanagan Centre'), ('Okanagan—Shuswap', 'Okanagan--Shuswap'), ('Okanagan—Similkameen—Merritt', 'Okanagan--Similkameen--Merritt'), ('Port Moody—Coquitlam', 'Port Moody--Coquitlam'), ('Richmond (British Columbia federal electoral district)', 'Richmond'), ('Saanich—Gulf Islands', 'Saanich--Gulf Islands'), ('Surrey North', 'Surrey North'), ('Nunatsiaq (electoral district)', 'Nunatsiaq'), (\"Bras d'Or (electoral district)\", \"Bras d'Or\"), ('Kings—Hants', 'Kings--Hants'), ('Pictou—Antigonish—Guysborough', 'Pictou--Antigonish--Guysborough'), ('Sackville—Eastern Shore', 'Sackville--Eastern Shore'), ('Sydney—Victoria', 'Sydney--Victoria'), ('West Nova', 'West Nova'), ('Beauséjour—Petitcodiac', 'Beauséjour--Petitcodiac'), ('Fredericton (electoral district)', 'Fredericton'), ('Madawaska—Restigouche', 'Madawaska--Restigouche'), ('Tobique—Mactaquac', 'Tobique--Mactaquac'), ('Abitibi—Baie-James—Nunavik', 'Abitibi--Baie-James--Nunavik'), ('Argenteuil—Papineau—Mirabel', 'Argenteuil--Papineau--Mirabel'), (\"Beauport—Montmorency—Côte-de-Beaupré—Île-d'Orléans\", \"Beauport--Montmorency--Côte-de-Beaupré--Île-d'Orléans\"), (\"Bellechasse—Etchemins—Montmagny—L'Islet\", \"Bellechasse--Etchemins--Montmagny--L'Islet\"), ('Bonaventure—Gaspé—Îles-de-la-Madeleine—Pabok', 'Bonaventure--Gaspé--Îles-de-la-Madeleine--Pabok'), ('Brossard—La Prairie', 'Brossard--La Prairie'), ('Compton—Stanstead', 'Compton--Stanstead'), ('Frontenac—Mégantic', 'Frontenac--Mégantic'), ('Kamouraska—Rivière-du-Loup—Temiscouata—Les Basques', 'Kamouraska--Rivière-du-Loup--Témiscouata--Les Basques'), ('Lac-Saint-Louis (electoral district)', 'Lac-Saint-Louis'), ('Lac-Saint-Jean—Saguenay', 'Lac-Saint-Jean--Saguenay'), ('Lévis-et-Chutes-de-la-Chaudière', 'Lévis-et-Chutes-de-la-Chaudière'), (\"Lotbinière—L'Érable\", \"Lotbinière--L'Érable\"), ('Notre-Dame-de-Grâce—Lachine', 'Notre-Dame-de-Grâce--Lachine'), ('Papineau—Saint-Denis', 'Papineau--Saint-Denis'), ('Repentigny (electoral district)', 'Repentigny'), ('Richmond—Arthabaska', 'Richmond--Arthabaska'), ('Rimouski—Neigette-et-La-Mitis', 'Rimouski-Neigette-et-La Mitis'), ('Rosemont—La Petite-Patrie (electoral district)', 'Rosemont--La Petite-Patrie'), ('Saint-Bruno—Saint-Hubert', 'Saint-Bruno--Saint-Hubert'), ('Saint-Eustache—Sainte-Thérèse', 'Saint-Eustache--Sainte-Thérèse'), ('Saint-Lambert (electoral district)', 'Saint-Lambert'), ('Saint-Léonard—Saint-Michel', 'Saint-Léonard--Saint-Michel'), ('Terrebonne—Blainville', 'Terrebonne--Blainville'), ('Verdun—Saint-Henri', 'Verdun--Saint-Henri'), ('Westmount—Ville-Marie', 'Westmount--Ville-Marie'), ('Ancaster—Dundas—Flamborough—Aldershot', 'Ancaster--Dundas--Flamborough--Aldershot'), ('Barrie—Simcoe—Bradford', 'Barrie--Simcoe--Bradford'), ('Beaches—East York', 'Beaches--East York'), ('Bramalea—Gore—Malton—Springdale', 'Bramalea--Gore--Malton--Springdale'), ('Brampton Centre', 'Brampton Centre'), ('Brampton West—Mississauga', 'Brampton West--Mississauga'), ('Bruce—Grey—Owen Sound', 'Bruce--Grey--Owen Sound'), ('Chatham-Kent—Essex', 'Chatham-Kent--Essex'), ('Dufferin—Peel—Wellington—Grey', 'Dufferin--Peel--Wellington--Grey'), ('Elgin—Middlesex—London', 'Elgin--Middlesex--London'), ('Erie—Lincoln', 'Erie--Lincoln'), ('Haldimand—Norfolk—Brant', 'Haldimand--Norfolk--Brant'), ('Haliburton—Victoria—Brock', 'Haliburton--Victoria--Brock'), ('Hamilton—Mountain', 'Hamilton Mountain'), ('Kitchener Centre', 'Kitchener Centre'), ('Kitchener—Waterloo (electoral district)', 'Kitchener--Waterloo'), ('London—Fanshawe', 'London--Fanshawe'), ('London North-Centre', 'London North Centre'), ('Markham (electoral district)', 'Markham'), ('Mississauga Centre', 'Mississauga Centre'), ('Niagara Centre', 'Niagara Centre'), ('Oak Ridges (electoral district)', 'Oak Ridges'), ('Oakville (electoral district)', 'Oakville'), ('Ottawa—Orleans', 'Ottawa--Orléans'), ('Ottawa West—Nepean', 'Ottawa West--Nepean'), ('Perth—Middlesex', 'Perth--Middlesex'), ('Pickering—Ajax—Uxbridge', 'Pickering--Ajax--Uxbridge'), ('Scarborough Southwest', 'Scarborough Southwest'), ('Simcoe—Grey', 'Simcoe--Grey'), ('Stormont—Dundas—Charlottenburgh', 'Stormont--Dundas--Charlottenburgh'), ('Stoney Creek (electoral district)', 'Stoney Creek'), ('Thornhill (electoral district)', 'Thornhill'), ('Thunder Bay—Superior North', 'Thunder Bay--Superior North'), ('Timiskaming—Cochrane', 'Timiskaming--Cochrane'), ('Timmins—James Bay', 'Timmins--James Bay'), ('Toronto Centre—Rosedale', 'Toronto Centre--Rosedale'), ('Toronto—Danforth', 'Toronto--Danforth'), ('Vaughan—King—Aurora', 'Vaughan--King--Aurora'), ('Waterloo—Wellington', 'Waterloo--Wellington'), ('Whitby—Ajax', 'Whitby--Ajax'), ('Charleswood—St. James—Assiniboia', 'Charleswood--St. James--Assiniboia'), ('Portage—Lisgar', 'Portage--Lisgar'), ('Winnipeg Centre', 'Winnipeg Centre'), ('Winnipeg North—St. Paul', 'Winnipeg North--St. Paul'), ('Battlefords—Lloydminster', 'Battlefords--Lloydminster'), ('Blackstrap (electoral district)', 'Blackstrap'), ('Churchill River (electoral district)', 'Churchill River'), ('Cypress Hills—Grasslands', 'Cypress Hills--Grasslands'), ('Palliser (Saskatchewan electoral district)', 'Palliser'), ('Regina—Lumsden—Lake Centre', 'Regina--Lumsden--Lake Centre'), ('Saskatoon—Rosetown—Biggar', 'Saskatoon--Rosetown--Biggar'), ('Saskatoon—Wanuskewin', 'Saskatoon--Wanuskewin'), ('Wascana', 'Wascana'), ('Calgary—Nose Hill', 'Calgary--Nose Hill'), ('Edmonton Centre-East', 'Edmonton Centre-East'), ('Lakeland (electoral district)', 'Lakeland'), ('Burnaby—Douglas', 'Burnaby--Douglas'), ('Delta—South Richmond', 'Delta--South Richmond'), ('Dewdney—Alouette', 'Dewdney--Alouette'), ('Kamloops, Thompson and Highland Valleys', 'Kamloops, Thompson and Highland Valleys'), ('Kelowna (electoral district)', 'Kelowna'), ('Kootenay—Columbia', 'Kootenay--Columbia'), ('Langley—Abbotsford', 'Langley--Abbotsford'), ('New Westminster—Coquitlam—Burnaby', 'New Westminster--Coquitlam--Burnaby'), ('Okanagan—Coquihalla', 'Okanagan--Coquihalla'), ('South Surrey—White Rock—Langley', 'South Surrey--White Rock--Langley'), ('Surrey Central', 'Surrey Central'), ('Vancouver Island North', 'Vancouver Island North'), ('Vancouver South—Burnaby', 'Vancouver South--Burnaby'), ('West Vancouver—Sunshine Coast', 'West Vancouver--Sunshine Coast'), ('West Kootenay—Okanagan', 'West Kootenay--Okanagan'), ('Calgary Centre-North', 'Calgary Centre-North'), ('Edmonton—Leduc', 'Edmonton--Leduc'), ('Edmonton—Mill Woods—Beaumont', 'Edmonton--Mill Woods--Beaumont'), ('Edmonton—St. Albert', 'Edmonton--St. Albert'), ('Edmonton—Sherwood Park', 'Edmonton--Sherwood Park'), ('Edmonton—Spruce Grove', 'Edmonton--Spruce Grove'), ('Fort McMurray—Athabasca', 'Fort McMurray--Athabasca'), ('Vegreville—Wainwright', 'Vegreville--Wainwright'), ('Westlock—St. Paul', 'Westlock--St. Paul'), ('Abbotsford (electoral district)', 'Abbotsford'), ('British Columbia Southern Interior', 'British Columbia Southern Interior'), ('Burnaby—New Westminster', 'Burnaby--New Westminster'), ('Cariboo—Prince George', 'Cariboo--Prince George'), ('Chilliwack—Fraser Canyon', 'Chilliwack--Fraser Canyon'), ('Delta—Richmond East', 'Delta--Richmond East'), ('Fleetwood—Port Kells', 'Fleetwood--Port Kells'), ('Kamloops—Thompson—Cariboo', 'Kamloops--Thompson--Cariboo'), ('Kelowna—Lake Country', 'Kelowna--Lake Country'), ('Langley (electoral district)', 'Langley'), ('Newton—North Delta', 'Newton--North Delta'), ('Pitt Meadows—Maple Ridge—Mission', 'Pitt Meadows--Maple Ridge--Mission'), ('Port Moody—Westwood—Port Coquitlam', 'Port Moody--Westwood--Port Coquitlam'), ('Skeena—Bulkley Valley', 'Skeena--Bulkley Valley'), ('South Surrey—White Rock—Cloverdale', 'South Surrey--White Rock--Cloverdale'), ('West Vancouver—Sunshine Coast—Sea to Sky Country', 'West Vancouver--Sunshine Coast--Sea to Sky Country'), ('Dauphin—Swan River—Marquette', 'Dauphin--Swan River--Marquette'), ('Elmwood—Transcona', 'Elmwood--Transcona'), ('Kildonan—St. Paul', 'Kildonan--St. Paul'), ('Beauséjour (electoral district)', 'Beauséjour'), ('Fundy Royal', 'Fundy Royal'), ('Moncton—Riverview—Dieppe', 'Moncton--Riverview--Dieppe'), ('New Brunswick Southwest', 'New Brunswick Southwest'), ('Avalon (electoral district)', 'Avalon'), ('Bonavista—Gander—Grand Falls—Windsor', 'Bonavista--Gander--Grand Falls--Windsor'), (\"Random—Burin—St. George's\", \"Random--Burin--St. George's\"), (\"St. John's South—Mount Pearl\", \"St. John's South--Mount Pearl\"), ('Cape Breton—Canso', 'Cape Breton--Canso'), ('Cumberland—Colchester—Musquodoboit Valley', 'Cumberland--Colchester--Musquodoboit Valley'), ('Dartmouth—Cole Harbour', 'Dartmouth--Cole Harbour'), (\"South Shore—St. Margaret's\", \"South Shore--St. Margaret's\"), ('Ajax—Pickering', 'Ajax--Pickering'), ('Algoma—Manitoulin—Kapuskasing', 'Algoma--Manitoulin--Kapuskasing'), ('Ancaster—Dundas—Flamborough—Westdale', 'Ancaster--Dundas--Flamborough--Westdale'), ('Barrie (electoral district)', 'Barrie'), ('Brampton—Springdale', 'Brampton--Springdale'), ('Brampton West', 'Brampton West'), ('Carleton—Mississippi Mills', 'Carleton--Mississippi Mills'), ('Dufferin—Caledon', 'Dufferin--Caledon'), ('Haliburton—Kawartha Lakes—Brock', 'Haliburton--Kawartha Lakes--Brock'), ('Hamilton Centre', 'Hamilton Centre'), ('Hamilton East—Stoney Creek', 'Hamilton East--Stoney Creek'), ('Hamilton Mountain (electoral district)', 'Hamilton Mountain'), ('Kenora (electoral district)', 'Kenora'), ('Kitchener—Conestoga', 'Kitchener--Conestoga'), ('Lanark—Frontenac—Lennox and Addington', 'Lanark--Frontenac--Lennox and Addington'), ('London North Centre', 'London North Centre'), ('Markham—Unionville', 'Markham--Unionville'), ('Mississauga—Brampton South', 'Mississauga--Brampton South'), ('Mississauga East—Cooksville', 'Mississauga East--Cooksville'), ('Mississauga—Erindale', 'Mississauga--Erindale'), ('Mississauga—Streetsville', 'Mississauga--Streetsville'), ('Newmarket—Aurora', 'Newmarket--Aurora'), ('Niagara West—Glanbrook', 'Niagara West--Glanbrook'), ('Nipissing—Timiskaming', 'Nipissing--Timiskaming'), ('Northumberland—Quinte West', 'Northumberland--Quinte West'), ('Oak Ridges—Markham', 'Oak Ridges--Markham'), ('Ottawa—Orléans', 'Ottawa--Orléans'), ('Perth—Wellington', 'Perth--Wellington'), ('Pickering—Scarborough East', 'Pickering--Scarborough East'), ('Richmond Hill (electoral district)', 'Richmond Hill'), ('Scarborough—Guildwood', 'Scarborough--Guildwood'), ('Stormont—Dundas—South Glengarry', 'Stormont--Dundas--South Glengarry'), ('Thunder Bay—Rainy River', 'Thunder Bay--Rainy River'), ('Toronto Centre', 'Toronto Centre'), ('Vaughan (electoral district)', 'Vaughan'), ('Wellington—Halton Hills', 'Wellington--Halton Hills'), ('Whitby—Oshawa', 'Whitby--Oshawa'), ('Windsor—Tecumseh', 'Windsor--Tecumseh'), ('Charlottetown (electoral district)', 'Charlottetown'), ('Abitibi—Baie-James—Nunavik—Eeyou', 'Abitibi--Baie-James--Nunavik--Eeyou'), ('Abitibi—Témiscamingue', 'Abitibi--Témiscamingue'), ('Alfred-Pellan (electoral district)', 'Alfred-Pellan'), ('Beauport—Limoilou', 'Beauport--Limoilou'), ('Chambly—Borduas', 'Chambly--Borduas'), ('Charlesbourg—Haute-Saint-Charles', 'Charlesbourg--Haute-Saint-Charles'), ('Châteauguay—Saint-Constant', 'Châteauguay--Saint-Constant'), ('Gaspésie—Îles-de-la-Madeleine', 'Gaspésie--Îles-de-la-Madeleine'), ('Haute-Gaspésie—La Mitis—Matane—Matapédia', 'Haute-Gaspésie--La Mitis--Matane--Matapédia'), ('Honoré-Mercier (electoral district)', 'Honoré-Mercier'), ('Jeanne-Le Ber', 'Jeanne-Le Ber'), ('Jonquière—Alma', 'Jonquière--Alma'), (\"La Pointe-de-l'Île (electoral district)\", \"La Pointe-de-l'Île\"), ('Laurentides—Labelle', 'Laurentides--Labelle'), ('Laval—Les Îles', 'Laval--Les Îles'), ('Lévis—Bellechasse', 'Lévis--Bellechasse'), ('Longueuil—Pierre-Boucher', 'Longueuil--Pierre-Boucher'), ('Lotbinière—Chutes-de-la-Chaudière', 'Lotbinière--Chutes-de-la-Chaudière'), ('Louis-Saint-Laurent (electoral district)', 'Louis-Saint-Laurent'), ('Marc-Aurèle-Fortin (electoral district)', 'Marc-Aurèle-Fortin'), (\"Mégantic—L'Érable\", \"Mégantic--L'Érable\"), ('Montcalm (electoral district)', 'Montcalm'), (\"Montmagny—L'Islet—Kamouraska—Rivière-du-Loup\", 'Montmagny--L’Islet--Kamouraska--Rivière-du-Loup'), ('Montmorency—Charlevoix—Haute-Côte-Nord', 'Montmorency--Charlevoix--Haute-Côte-Nord'), ('Portneuf—Jacques-Cartier', 'Portneuf--Jacques-Cartier'), ('Rimouski-Neigette—Témiscouata—Les Basques', 'Rimouski-Neigette--Témiscouata--Les Basques'), ('Rivière-des-Mille-Îles (electoral district)', 'Rivière-des-Mille-Îles'), ('Rivière-du-Nord (electoral district)', 'Rivière-du-Nord'), ('Roberval—Lac-Saint-Jean', 'Roberval--Lac-Saint-Jean'), ('Rosemont—La Petite-Patrie', 'Rosemont--La Petite-Patrie'), ('Saint-Maurice—Champlain', 'Saint-Maurice--Champlain'), ('Vaudreuil-Soulanges (electoral district)', 'Vaudreuil--Soulanges'), ('Desnethé—Missinippi—Churchill River', 'Desnethé--Missinippi--Churchill River'), ('Banff—Airdrie', 'Banff--Airdrie'), ('Battle River—Crowfoot', 'Battle River--Crowfoot'), ('Calgary Confederation', 'Calgary Confederation'), ('Calgary Forest Lawn', 'Calgary Forest Lawn'), ('Calgary Heritage', 'Calgary Heritage'), ('Calgary Midnapore', 'Calgary Midnapore'), ('Calgary Nose Hill', 'Calgary Nose Hill'), ('Calgary Rocky Ridge', 'Calgary Rocky Ridge'), ('Calgary Shepard', 'Calgary Shepard'), ('Calgary Signal Hill', 'Calgary Signal Hill'), ('Calgary Skyview', 'Calgary Skyview'), ('Edmonton Griesbach', 'Edmonton Griesbach'), ('Edmonton Manning', 'Edmonton Manning'), ('Edmonton Mill Woods', 'Edmonton Mill Woods'), ('Edmonton Riverbend', 'Edmonton Riverbend'), ('Edmonton—Wetaskiwin', 'Edmonton--Wetaskiwin'), ('Foothills (electoral district)', 'Foothills'), ('Fort McMurray—Cold Lake', 'Fort McMurray--Cold Lake'), ('Grande Prairie—Mackenzie', 'Grande Prairie--Mackenzie'), ('Medicine Hat—Cardston—Warner', 'Medicine Hat--Cardston--Warner'), ('Peace River—Westlock', 'Peace River--Westlock'), ('Red Deer—Lacombe', 'Red Deer--Lacombe'), ('Red Deer—Mountain View', 'Red Deer--Mountain View'), ('Sherwood Park—Fort Saskatchewan', 'Sherwood Park--Fort Saskatchewan'), ('St. Albert—Edmonton', 'St. Albert--Edmonton'), ('Sturgeon River—Parkland', 'Sturgeon River--Parkland'), ('Burnaby North—Seymour', 'Burnaby North--Seymour'), ('Burnaby South', 'Burnaby South'), ('Central Okanagan—Similkameen—Nicola', 'Central Okanagan--Similkameen--Nicola'), ('Chilliwack—Hope', 'Chilliwack--Hope'), ('Cloverdale—Langley City', 'Cloverdale--Langley City'), ('Coquitlam—Port Coquitlam', 'Coquitlam--Port Coquitlam'), ('Courtenay—Alberni', 'Courtenay--Alberni'), ('Cowichan—Malahat—Langford', 'Cowichan--Malahat--Langford'), ('Delta (federal electoral district)', 'Delta'), ('Esquimalt—Saanich—Sooke', 'Esquimalt--Saanich--Sooke'), ('Langley—Aldergrove', 'Langley--Aldergrove'), ('Mission—Matsqui—Fraser Canyon', 'Mission--Matsqui--Fraser Canyon'), ('Nanaimo—Ladysmith', 'Nanaimo--Ladysmith'), ('North Okanagan—Shuswap', 'North Okanagan--Shuswap'), ('Pitt Meadows—Maple Ridge', 'Pitt Meadows--Maple Ridge'), ('Prince George—Peace River—Northern Rockies', 'Prince George--Peace River--Northern Rockies'), ('Richmond Centre (electoral district)', 'Richmond Centre'), ('South Okanagan—West Kootenay', 'South Okanagan--West Kootenay'), ('South Surrey—White Rock', 'South Surrey--White Rock'), ('Steveston—Richmond East', 'Steveston--Richmond East'), ('Surrey Centre', 'Surrey Centre'), ('Surrey—Newton', 'Surrey--Newton'), ('Vancouver Granville', 'Vancouver Granville'), ('Charleswood—St. James—Assiniboia—Headingley', 'Charleswood--St. James--Assiniboia--Headingley'), ('Churchill—Keewatinook Aski', 'Churchill--Keewatinook Aski'), ('Dauphin—Swan River—Neepawa', 'Dauphin--Swan River--Neepawa'), ('Saint Boniface—Saint Vital', 'Saint Boniface--Saint Vital'), ('Selkirk—Interlake—Eastman', 'Selkirk--Interlake--Eastman'), ('Miramichi—Grand Lake', 'Miramichi--Grand Lake'), ('Saint John—Rothesay', 'Saint John--Rothesay'), ('Bonavista—Burin—Trinity', 'Bonavista--Burin--Trinity'), ('Coast of Bays—Central—Notre Dame', 'Coast of Bays--Central--Notre Dame'), ('Long Range Mountains (electoral district)', 'Long Range Mountains'), ('Sackville—Preston—Chezzetcook', 'Sackville--Preston--Chezzetcook'), ('South Shore—St. Margarets', 'South Shore--St. Margarets'), ('Ajax (electoral district)', 'Ajax'), ('Aurora—Oak Ridges—Richmond Hill', 'Aurora--Oak Ridges--Richmond Hill'), ('Barrie—Innisfil', 'Barrie--Innisfil'), ('Barrie—Springwater—Oro-Medonte', 'Barrie--Springwater--Oro-Medonte'), ('Bay of Quinte (electoral district)', 'Bay of Quinte'), ('Brampton East', 'Brampton East'), ('Brampton North (federal electoral district)', 'Brampton North'), ('Brampton South (federal electoral district)', 'Brampton South'), ('Brantford—Brant', 'Brantford--Brant'), ('Chatham-Kent—Leamington', 'Chatham-Kent--Leamington'), ('Flamborough—Glanbrook', 'Flamborough--Glanbrook'), ('Hamilton West—Ancaster—Dundas', 'Hamilton West--Ancaster--Dundas'), ('Hastings—Lennox and Addington', 'Hastings--Lennox and Addington'), ('Humber River—Black Creek', 'Humber River--Black Creek'), ('Kanata—Carleton', 'Kanata--Carleton'), ('King—Vaughan', 'King--Vaughan'), ('Kitchener South—Hespeler', 'Kitchener South--Hespeler'), ('Lanark—Frontenac—Kingston', 'Lanark--Frontenac--Kingston'), ('Leeds—Grenville—Thousand Islands and Rideau Lakes', 'Leeds--Grenville--Thousand Islands and Rideau Lakes'), ('Markham—Stouffville', 'Markham--Stouffville'), ('Markham—Thornhill', 'Markham--Thornhill'), ('Milton (electoral district)', 'Milton'), ('Mississauga—Erin Mills', 'Mississauga--Erin Mills'), ('Mississauga—Lakeshore', 'Mississauga--Lakeshore'), ('Mississauga—Malton', 'Mississauga--Malton'), ('Niagara West', 'Niagara West'), ('Northumberland—Peterborough South', 'Northumberland--Peterborough South'), ('Oakville North—Burlington', 'Oakville North--Burlington'), ('Orléans (electoral district)', 'Orléans'), ('Peterborough—Kawartha', 'Peterborough--Kawartha'), ('Pickering—Uxbridge', 'Pickering--Uxbridge'), ('Scarborough North (federal electoral district)', 'Scarborough North'), ('Scarborough—Rouge Park', 'Scarborough--Rouge Park'), ('Spadina—Fort York', 'Spadina--Fort York'), (\"Toronto—St. Paul's\", \"Toronto--St. Paul's\"), ('University—Rosedale', 'University--Rosedale'), ('Vaughan—Woodbridge', 'Vaughan--Woodbridge'), ('Whitby (electoral district)', 'Whitby'), ('Ahuntsic-Cartierville (electoral district)', 'Ahuntsic-Cartierville'), ('Argenteuil—La Petite-Nation', 'Argenteuil--La Petite-Nation'), ('Avignon—La Mitis—Matane—Matapédia', 'Avignon--La Mitis--Matane--Matapédia'), ('Beauport—Côte-de-Beaupré—Île d’Orléans—Charlevoix', 'Beauport--Côte-de-Beaupré--Île D’Orléans--Charlevoix'), ('Bécancour—Nicolet—Saurel', 'Bécancour--Nicolet--Saurel'), ('Bellechasse—Les Etchemins—Lévis', 'Bellechasse--Les Etchemins--Lévis'), ('Beloeil—Chambly', 'Beloeil--Chambly'), ('Brossard—Saint-Lambert', 'Brossard--Saint-Lambert'), ('Châteauguay—Lacolle', 'Châteauguay--Lacolle'), ('Dorval—Lachine—LaSalle', 'Dorval--Lachine--LaSalle'), ('Gaspésie—Les Îles-de-la-Madeleine', 'Gaspésie--Les Îles-de-la-Madeleine'), (\"La Pointe-de-l'Île\", \"La Pointe-de-l'Île\"), ('Lac-Saint-Louis', 'Lac-Saint-Louis'), ('LaSalle—Émard—Verdun', 'LaSalle--Émard--Verdun'), ('Lévis—Lotbinière', 'Lévis--Lotbinière'), ('Longueuil—Charles-LeMoyne', 'Longueuil--Charles-LeMoyne'), ('Longueuil—Saint-Hubert', 'Longueuil--Saint-Hubert'), ('Mirabel (electoral district)', 'Mirabel'), ('Montarville (electoral district)', 'Montarville'), ('Notre-Dame-de-Grâce—Westmount', 'Notre-Dame-de-Grâce--Westmount'), ('Pierre-Boucher—Les Patriotes—Verchères', 'Pierre-Boucher--Les Patriotes--Verchères'), ('Saint-Laurent (electoral district)', 'Saint-Laurent'), ('Salaberry—Suroît', 'Salaberry--Suroît'), ('Thérèse-De Blainville', 'Thérèse-De Blainville'), ('Ville-Marie—Le Sud-Ouest—Île-des-Sœurs', 'Ville-Marie--Le Sud-Ouest--Île-des-Soeurs'), ('Vimy (electoral district)', 'Vimy'), ('Carlton Trail—Eagle Creek', 'Carlton Trail--Eagle Creek'), ('Moose Jaw—Lake Centre—Lanigan', 'Moose Jaw--Lake Centre--Lanigan'), ('Regina—Lewvan', 'Regina--Lewvan'), ('Saskatoon—Grasswood', 'Saskatoon--Grasswood'), ('Saskatoon—University', 'Saskatoon--University')]\n"
    }
   ],
   "source": [
    "with open(map_filename, 'rb') as handle:\n",
    "    pickle_map = pickle.load(handle)\n",
    "print(list(pickle_map.items()))"
   ]
  },
  {
   "cell_type": "code",
   "execution_count": 32,
   "metadata": {
    "tags": []
   },
   "outputs": [
    {
     "output_type": "stream",
     "name": "stdout",
     "text": "[('Vancouver Centre', <__main__.RidingObject object at 0x7f7486a8a250>)]\n"
    }
   ],
   "source": [
    "with open(district_era_filename, 'rb') as handle:\n",
    "    scraped_data_map = pickle.load(handle)\n",
    "print(list(scraped_data_map.items()))"
   ]
  },
  {
   "cell_type": "code",
   "execution_count": 33,
   "metadata": {
    "tags": []
   },
   "outputs": [
    {
     "output_type": "stream",
     "name": "stdout",
     "text": "Index(['riding', 'electiondate', 'provincecode', 'lastname', 'firstname',\n       'parliament', 'byelec', 'other', 'lib', 'ndp', 'green', 'bloc',\n       'allcons', 'won', 'score'],\n      dtype='object')\n                riding electiondate  provincecode    lastname  \\\n3814  vancouver centre   1921-12-06             2      BATSON   \n3815  vancouver centre   1921-12-06             2     STEVENS   \n3816  vancouver centre   1921-12-06             2        GALE   \n3817  vancouver centre   1921-12-06             2    O'CONNOR   \n3850  vancouver centre   1925-10-29             2     LEFEAUX   \n...                ...          ...           ...         ...   \n7174  vancouver centre   2008-10-14             2        CARR   \n7175  vancouver centre   2008-10-14             2         FRY   \n7176  vancouver centre   2008-10-14             2  MAYENCOURT   \n7177  vancouver centre   2008-10-14             2       BYERS   \n7178  vancouver centre   2008-10-14             2      CLARKE   \n\n             firstname  parliament  byelec  other  lib  ndp  green  bloc  \\\n3814  CADWALLADERFLAGG          14       0      1    0    0      0     0   \n3815      HENRYHERBERT          14       0      0    0    0      0     0   \n3816       ROBERTHENRY          14       0      0    1    0      0     0   \n3817            THOMAS          14       0      1    0    0      0     0   \n3850      WALLISWALTER          15       0      1    0    0      0     0   \n...                ...         ...     ...    ...  ...  ...    ...   ...   \n7174           ADRIANE          40       0      0    0    0      1     0   \n7175              HEDY          40       0      0    1    0      0     0   \n7176             LORNE          40       0      0    0    0      0     0   \n7177           MICHAEL          40       0      0    0    1      0     0   \n7178              JOHN          40       0      1    0    0      0     0   \n\n      allcons  won  score  \n3814        0    0    0.0  \n3815        1    1    0.0  \n3816        0    0    0.0  \n3817        0    0    0.0  \n3850        0    0    0.0  \n...       ...  ...    ...  \n7174        0    0    0.0  \n7175        0    1    0.0  \n7176        1    0    0.0  \n7177        0    0    0.0  \n7178        0    0    0.0  \n\n[169 rows x 15 columns]\n"
    }
   ],
   "source": [
    "filename = \"./federal_election_data.csv\"\n",
    "\n",
    "elec_data = pd.read_csv(filename, sep=',', delimiter=None, header='infer')\n",
    "elec_data['score'] = np.zeros(len(elec_data))\n",
    "print(elec_data.columns)\n",
    "#print(pickle_map['vancouver centre'])\n",
    " \n",
    "relevant_data = elec_data.loc[elec_data['riding'] == 'vancouver centre']\n",
    "print(relevant_data)\n"
   ]
  },
  {
   "cell_type": "code",
   "execution_count": 34,
   "metadata": {
    "tags": []
   },
   "outputs": [
    {
     "output_type": "stream",
     "name": "stdout",
     "text": "169\n{'1921-12-06', '2008-10-14', '1949-06-27', '1945-06-11', '1962-06-18', '1980-02-18', '1940-03-26', '1979-05-22', '1948-06-08', '1972-10-30', '1958-03-31', '1988-11-21', '1963-04-08', '1926-09-14', '1997-06-02', '1974-07-08', '2004-06-28', '1965-11-08', '1957-06-10', '1930-07-28', '1968-06-25', '1935-10-14', '1993-10-25', '2000-11-27', '1953-08-10', '1925-10-29', '1984-09-04', '2006-01-23'}\n"
    }
   ],
   "source": [
    "election_dates = relevant_data['electiondate']\n",
    "print(len(election_dates))\n",
    "print(set(election_dates))\n"
   ]
  },
  {
   "cell_type": "code",
   "execution_count": 35,
   "metadata": {
    "tags": []
   },
   "outputs": [
    {
     "output_type": "stream",
     "name": "stdout",
     "text": "['1921-12-06', '1925-10-29', '1926-09-14', '1930-07-28', '1935-10-14', '1940-03-26', '1945-06-11', '1948-06-08', '1949-06-27', '1953-08-10', '1957-06-10', '1958-03-31', '1962-06-18', '1963-04-08', '1965-11-08', '1968-06-25', '1972-10-30', '1974-07-08', '1979-05-22', '1980-02-18', '1984-09-04', '1988-11-21', '1993-10-25', '1997-06-02', '2000-11-27', '2004-06-28', '2006-01-23', '2008-10-14']\n"
    }
   ],
   "source": [
    "import datetime\n",
    " \n",
    "election_dates = list(set(election_dates))\n",
    " \n",
    "election_dates = [datetime.datetime.strptime(date, \"%Y-%m-%d\") for date in election_dates]\n",
    "election_dates.sort()\n",
    "sorted_election_dates = [datetime.datetime.strftime(date, \"%Y-%m-%d\") for date in election_dates]\n",
    "\n",
    "print(sorted_election_dates)\n"
   ]
  },
  {
   "cell_type": "code",
   "execution_count": 36,
   "metadata": {
    "tags": []
   },
   "outputs": [],
   "source": [
    "import numpy as np\n",
    " \n",
    "election_competition = np.zeros_like(election_dates)\n",
    "winner_scores = np.zeros_like(election_dates)\n",
    "\n",
    "def compute_score(index, party):\n",
    "    score = 0\n",
    "    if (index > 0 and election_competition[index - 1] == party):\n",
    "        score += 3\n",
    "    if (index -1 > 0 and election_competition[index - 2] == party):\n",
    "        score += 2\n",
    "    if (index -2 > 0 and election_competition[index - 3] == party):\n",
    "        score += 1\n",
    "    return score\n",
    "compute_score_vec = np.vectorize(compute_score)\n",
    " \n",
    "for idx, election_date in enumerate(sorted_election_dates):\n",
    "    election_data = relevant_data.loc[relevant_data['electiondate'] == election_date]\n",
    "    #print('############################################################')\n",
    "    #print(election_data)\n",
    "    candidates_data = np.array(election_data.iloc[:, 7:-2])\n",
    "    candidate_parties = np.argmax(candidates_data, axis=1)\n",
    "    results_data = np.array(election_data.iloc[:, -1:])\n",
    "\n",
    "    winner = np.argmax(results_data)\n",
    "    winner_party = candidate_parties[winner]\n",
    "    election_competition[idx] = winner_party\n",
    "\n",
    "    candidate_scores = compute_score_vec(idx, candidate_parties)\n",
    "    relevant_data.loc[relevant_data['electiondate'] == election_date, 'score'] = candidate_scores\n",
    "    #print(relevant_data[relevant_data['electiondate'] == election_date])\n",
    "\n",
    "    if idx > 4:\n",
    "        break"
   ]
  },
  {
   "cell_type": "code",
   "execution_count": 37,
   "metadata": {
    "tags": []
   },
   "outputs": [
    {
     "output_type": "stream",
     "name": "stdout",
     "text": "[0 0 1 5 0 1 0 0 0 0 0 0 0 0 0 0 0 0 0 0 0 0 0 0 0 0 0 0]\n"
    }
   ],
   "source": [
    "\"\"\"\n",
    "0 - other \n",
    "1 - lib\n",
    "2 - ndp\n",
    "3 - green\n",
    "4 - bloc\n",
    "5 - cons\n",
    "\"\"\"\n",
    "\n",
    "\n",
    "def get_score(index):\n",
    "    if (index < 0):\n",
    "        return -1\n",
    "    else:\n",
    "        return election_competition[idx]\n",
    " \n",
    "print(election_competition)\n",
    "\n",
    "# For each index\n",
    "# Get score for previous elections"
   ]
  },
  {
   "cell_type": "code",
   "execution_count": 38,
   "metadata": {
    "tags": []
   },
   "outputs": [
    {
     "output_type": "stream",
     "name": "stdout",
     "text": "riding electiondate  provincecode    lastname  \\\n3814  vancouver centre   1921-12-06             2      BATSON   \n3815  vancouver centre   1921-12-06             2     STEVENS   \n3816  vancouver centre   1921-12-06             2        GALE   \n3817  vancouver centre   1921-12-06             2    O'CONNOR   \n3850  vancouver centre   1925-10-29             2     LEFEAUX   \n...                ...          ...           ...         ...   \n7174  vancouver centre   2008-10-14             2        CARR   \n7175  vancouver centre   2008-10-14             2         FRY   \n7176  vancouver centre   2008-10-14             2  MAYENCOURT   \n7177  vancouver centre   2008-10-14             2       BYERS   \n7178  vancouver centre   2008-10-14             2      CLARKE   \n\n             firstname  parliament  byelec  other  lib  ndp  green  bloc  \\\n3814  CADWALLADERFLAGG          14       0      1    0    0      0     0   \n3815      HENRYHERBERT          14       0      0    0    0      0     0   \n3816       ROBERTHENRY          14       0      0    1    0      0     0   \n3817            THOMAS          14       0      1    0    0      0     0   \n3850      WALLISWALTER          15       0      1    0    0      0     0   \n...                ...         ...     ...    ...  ...  ...    ...   ...   \n7174           ADRIANE          40       0      0    0    0      1     0   \n7175              HEDY          40       0      0    1    0      0     0   \n7176             LORNE          40       0      0    0    0      0     0   \n7177           MICHAEL          40       0      0    0    1      0     0   \n7178              JOHN          40       0      1    0    0      0     0   \n\n      allcons  won  score  \n3814        0    0    0.0  \n3815        1    1    0.0  \n3816        0    0    0.0  \n3817        0    0    0.0  \n3850        0    0    3.0  \n...       ...  ...    ...  \n7174        0    0    0.0  \n7175        0    1    0.0  \n7176        1    0    0.0  \n7177        0    0    0.0  \n7178        0    0    0.0  \n\n[169 rows x 15 columns]\n"
    }
   ],
   "source": [
    "print(relevant_data)"
   ]
  },
  {
   "cell_type": "code",
   "execution_count": 39,
   "metadata": {},
   "outputs": [
    {
     "output_type": "execute_result",
     "data": {
      "text/plain": "'\\n-Need data on the previous 3 elections\\n\\nAt each election points are awarded for having won preceding elections in that riding\\n\\nElection | points\\n-------------------\\nN - 1 |   3\\n-------------------\\nN - 2 |   2\\n-------------------\\nN - 3 |   1\\n\\n'"
     },
     "metadata": {},
     "execution_count": 39
    }
   ],
   "source": [
    "# COMPETITIVENESS COMPUTATION\n",
    "\"\"\"\n",
    "-Need data on the previous 3 elections\n",
    "\n",
    "At each election points are awarded for having won preceding elections in that riding\n",
    "\n",
    "Election | points\n",
    "-------------------\n",
    "N - 1 |   3\n",
    "-------------------\n",
    "N - 2 |   2\n",
    "-------------------\n",
    "N - 3 |   1\n",
    "\n",
    "\"\"\""
   ]
  },
  {
   "cell_type": "code",
   "execution_count": 40,
   "metadata": {},
   "outputs": [],
   "source": [
    "# must be done chronologically\n",
    "# for each election date in order"
   ]
  },
  {
   "cell_type": "code",
   "execution_count": 41,
   "metadata": {},
   "outputs": [],
   "source": [
    "# Get example of recent riding"
   ]
  },
  {
   "cell_type": "code",
   "execution_count": 42,
   "metadata": {},
   "outputs": [],
   "source": [
    "# For election in riding\n",
    "    # Obtain relevant preceding election data\n",
    "    # For candidate in election\n",
    "    # "
   ]
  }
 ],
 "metadata": {
  "kernelspec": {
   "display_name": "Python 3.8.2 64-bit ('elections': conda)",
   "language": "python",
   "name": "python38264bitelectionsconda9a5b9d1cf3d74687b599c4877bffd1c6"
  },
  "language_info": {
   "codemirror_mode": {
    "name": "ipython",
    "version": 3
   },
   "file_extension": ".py",
   "mimetype": "text/x-python",
   "name": "python",
   "nbconvert_exporter": "python",
   "pygments_lexer": "ipython3",
   "version": "3.8.2-final"
  }
 },
 "nbformat": 4,
 "nbformat_minor": 4
}